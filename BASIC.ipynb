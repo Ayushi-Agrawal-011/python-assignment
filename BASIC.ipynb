{
  "nbformat": 4,
  "nbformat_minor": 0,
  "metadata": {
    "colab": {
      "provenance": [],
      "toc_visible": true,
      "authorship_tag": "ABX9TyMNuCHetO3UAEoP/DMA/T0f",
      "include_colab_link": true
    },
    "kernelspec": {
      "name": "python3",
      "display_name": "Python 3"
    },
    "language_info": {
      "name": "python"
    }
  },
  "cells": [
    {
      "cell_type": "markdown",
      "metadata": {
        "id": "view-in-github",
        "colab_type": "text"
      },
      "source": [
        "<a href=\"https://colab.research.google.com/github/Ayushi-Agrawal-011/python-assignment/blob/main/BASIC.ipynb\" target=\"_parent\"><img src=\"https://colab.research.google.com/assets/colab-badge.svg\" alt=\"Open In Colab\"/></a>"
      ]
    },
    {
      "cell_type": "code",
      "execution_count": 1,
      "metadata": {
        "id": "Huc3abrusG8M",
        "colab": {
          "base_uri": "https://localhost:8080/",
          "height": 193
        },
        "outputId": "8638a436-63bb-4804-f959-7e0f9dd24f53"
      },
      "outputs": [
        {
          "name": "stdout",
          "output_type": "stream",
          "text": [
            "enter the age17\n"
          ]
        },
        {
          "output_type": "error",
          "ename": "Exception",
          "evalue": "you are not eligible for vote",
          "traceback": [
            "\u001b[0;31m---------------------------------------------------------------------------\u001b[0m",
            "\u001b[0;31mException\u001b[0m                                 Traceback (most recent call last)",
            "\u001b[0;32m/tmp/ipython-input-1-1493287359.py\u001b[0m in \u001b[0;36m<cell line: 0>\u001b[0;34m()\u001b[0m\n\u001b[1;32m      2\u001b[0m \u001b[0;34m\u001b[0m\u001b[0m\n\u001b[1;32m      3\u001b[0m \u001b[0;32mif\u001b[0m\u001b[0;34m(\u001b[0m\u001b[0mage\u001b[0m\u001b[0;34m<\u001b[0m\u001b[0;36m18\u001b[0m\u001b[0;34m)\u001b[0m\u001b[0;34m:\u001b[0m\u001b[0;34m\u001b[0m\u001b[0;34m\u001b[0m\u001b[0m\n\u001b[0;32m----> 4\u001b[0;31m     \u001b[0;32mraise\u001b[0m \u001b[0mException\u001b[0m\u001b[0;34m(\u001b[0m\u001b[0;34m\"you are not eligible for vote\"\u001b[0m\u001b[0;34m)\u001b[0m\u001b[0;34m\u001b[0m\u001b[0;34m\u001b[0m\u001b[0m\n\u001b[0m",
            "\u001b[0;31mException\u001b[0m: you are not eligible for vote"
          ]
        }
      ],
      "source": [
        "age=int(input(\"enter the age\"))\n",
        "\n",
        "if(age<18):\n",
        "    raise Exception(\"you are not eligible for vote\")"
      ]
    },
    {
      "cell_type": "code",
      "source": [
        "l=[['M1', 'M2', 'M3', 'M4'],\n",
        "   ['10', '20', '30', '40'],\n",
        "   ['50', '60', '60', '70'],\n",
        "   ['80', '90', '100', '110']\n",
        "   ]"
      ],
      "metadata": {
        "id": "nbkRK7YLtKHW"
      },
      "execution_count": 2,
      "outputs": []
    },
    {
      "cell_type": "code",
      "source": [
        "with open('write.csv','w') as f:\n",
        "    for list in l:\n",
        "        f.write(','.join(map(str,list)))\n",
        "        f.write('\\n')"
      ],
      "metadata": {
        "id": "GTtWyaRHtPI7"
      },
      "execution_count": 3,
      "outputs": []
    },
    {
      "cell_type": "code",
      "source": [
        "with open('write.csv','r') as f:\n",
        "    f.seek(0)\n",
        "    print(f.read())"
      ],
      "metadata": {
        "colab": {
          "base_uri": "https://localhost:8080/"
        },
        "id": "0IkK6rPgtUVP",
        "outputId": "9df3bbab-3db3-4219-d48b-3676d003b0b0"
      },
      "execution_count": 4,
      "outputs": [
        {
          "output_type": "stream",
          "name": "stdout",
          "text": [
            "M1,M2,M3,M4\n",
            "10,20,30,40\n",
            "50,60,60,70\n",
            "80,90,100,110\n",
            "\n"
          ]
        }
      ]
    }
  ]
}