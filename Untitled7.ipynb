{
  "nbformat": 4,
  "nbformat_minor": 0,
  "metadata": {
    "colab": {
      "provenance": [],
      "authorship_tag": "ABX9TyMjO0AwwAEOwgd0HewP761f",
      "include_colab_link": true
    },
    "kernelspec": {
      "name": "python3",
      "display_name": "Python 3"
    },
    "language_info": {
      "name": "python"
    }
  },
  "cells": [
    {
      "cell_type": "markdown",
      "metadata": {
        "id": "view-in-github",
        "colab_type": "text"
      },
      "source": [
        "<a href=\"https://colab.research.google.com/github/Ayushi-Agrawal-011/python-assignment/blob/main/Untitled7.ipynb\" target=\"_parent\"><img src=\"https://colab.research.google.com/assets/colab-badge.svg\" alt=\"Open In Colab\"/></a>"
      ]
    },
    {
      "cell_type": "code",
      "execution_count": 1,
      "metadata": {
        "colab": {
          "base_uri": "https://localhost:8080/"
        },
        "id": "W4Rpvbf8oNgx",
        "outputId": "a841eb53-64f6-4d9f-8cd8-d2e3c1640c85"
      },
      "outputs": [
        {
          "output_type": "stream",
          "name": "stdout",
          "text": [
            "(10,)\n",
            "10\n",
            "<class 'numpy.ndarray'>\n"
          ]
        },
        {
          "output_type": "execute_result",
          "data": {
            "text/plain": [
              "array([1, 7, 2, 4, 3, 2, 3, 4, 8, 2])"
            ]
          },
          "metadata": {},
          "execution_count": 1
        }
      ],
      "source": [
        "import numpy as np\n",
        "l1=np.random.randint(1,11,10)\n",
        "print(l1.shape)\n",
        "print(l1.size)\n",
        "print(type(l1))\n",
        "l1"
      ]
    },
    {
      "cell_type": "code",
      "source": [
        "import numpy as np\n",
        "l3=np.random.rand(3,5,3)\n",
        "print(l3.shape)\n",
        "print(l3.size)\n",
        "print(type(l3))\n",
        "l3"
      ],
      "metadata": {
        "colab": {
          "base_uri": "https://localhost:8080/"
        },
        "id": "liCah7tdo7ov",
        "outputId": "bb007c8f-046f-4866-aff1-79c18e1d322d"
      },
      "execution_count": 2,
      "outputs": [
        {
          "output_type": "stream",
          "name": "stdout",
          "text": [
            "(3, 5, 3)\n",
            "45\n",
            "<class 'numpy.ndarray'>\n"
          ]
        },
        {
          "output_type": "execute_result",
          "data": {
            "text/plain": [
              "array([[[0.32532935, 0.59852358, 0.00525716],\n",
              "        [0.65227108, 0.3719129 , 0.58749826],\n",
              "        [0.22860458, 0.69118298, 0.17625196],\n",
              "        [0.8294697 , 0.5586836 , 0.11712444],\n",
              "        [0.38381612, 0.49431989, 0.43459806]],\n",
              "\n",
              "       [[0.63312081, 0.62959382, 0.06720735],\n",
              "        [0.25903214, 0.20551153, 0.25268426],\n",
              "        [0.14633248, 0.20366178, 0.42247468],\n",
              "        [0.32726655, 0.12241286, 0.06661849],\n",
              "        [0.65180054, 0.19123644, 0.4848041 ]],\n",
              "\n",
              "       [[0.22937351, 0.2202762 , 0.33021392],\n",
              "        [0.37196972, 0.24019074, 0.09654055],\n",
              "        [0.39675411, 0.51792088, 0.81513333],\n",
              "        [0.57068367, 0.16528262, 0.19950035],\n",
              "        [0.79155084, 0.32467309, 0.5360528 ]]])"
            ]
          },
          "metadata": {},
          "execution_count": 2
        }
      ]
    },
    {
      "cell_type": "code",
      "source": [
        "import numpy as np\n",
        "l2=np.random.randint(1,10,9).reshape(3,3)\n",
        "print(l2.shape)\n",
        "print(l2.size)\n",
        "print(type(l2))\n",
        "l2"
      ],
      "metadata": {
        "colab": {
          "base_uri": "https://localhost:8080/"
        },
        "id": "vWq1H7AgpU9C",
        "outputId": "a7aadb72-d582-4f9d-988f-e377244937b9"
      },
      "execution_count": 3,
      "outputs": [
        {
          "output_type": "stream",
          "name": "stdout",
          "text": [
            "(3, 3)\n",
            "9\n",
            "<class 'numpy.ndarray'>\n"
          ]
        },
        {
          "output_type": "execute_result",
          "data": {
            "text/plain": [
              "array([[6, 8, 3],\n",
              "       [1, 8, 1],\n",
              "       [2, 4, 4]])"
            ]
          },
          "metadata": {},
          "execution_count": 3
        }
      ]
    },
    {
      "cell_type": "code",
      "source": [
        "import numpy as np\n",
        "data = [10, 20, 30, 40, 50, 60, 70, 80, 90]\n",
        "l1=np.array(data)\n",
        "print(l1[0:3])\n",
        "print(l1[::2])\n",
        "print(l1[::-1])"
      ],
      "metadata": {
        "colab": {
          "base_uri": "https://localhost:8080/"
        },
        "id": "eHfZYEI1pbPP",
        "outputId": "a004abea-2a8d-43c4-bb77-366750177048"
      },
      "execution_count": 4,
      "outputs": [
        {
          "output_type": "stream",
          "name": "stdout",
          "text": [
            "[10 20 30]\n",
            "[10 30 50 70 90]\n",
            "[90 80 70 60 50 40 30 20 10]\n"
          ]
        }
      ]
    },
    {
      "cell_type": "code",
      "source": [
        "import numpy as np\n",
        "A=np.random.randint(1,20,5)\n",
        "B=np.random.randint(1,20,5)\n",
        "print(A)\n",
        "print(B)\n",
        "add=A+B\n",
        "sub=A-B\n",
        "mul=A*B\n",
        "div=A/B\n",
        "print(\"Addition :\",add)\n",
        "print(\"Subtraction :\",sub)\n",
        "print(\"Multiplication :\",mul)\n",
        "print(\"Division:\",div)"
      ],
      "metadata": {
        "colab": {
          "base_uri": "https://localhost:8080/"
        },
        "id": "eermuYIDpaMi",
        "outputId": "554b83ff-204e-4989-9467-0e8137ad8795"
      },
      "execution_count": 5,
      "outputs": [
        {
          "output_type": "stream",
          "name": "stdout",
          "text": [
            "[ 6  3  1  8 13]\n",
            "[13 12 12  3 15]\n",
            "Addition : [19 15 13 11 28]\n",
            "Subtraction : [ -7  -9 -11   5  -2]\n",
            "Multiplication : [ 78  36  12  24 195]\n",
            "Division: [0.46153846 0.25       0.08333333 2.66666667 0.86666667]\n"
          ]
        }
      ]
    },
    {
      "cell_type": "code",
      "source": [
        "A=np.random.randint(1,20,5)\n",
        "B=np.random.randint(1,20,5)\n",
        "print(A)\n",
        "print(B)\n",
        "dot_product = np.dot(A, B)\n",
        "# Or alternatively:\n",
        "# dot_product = A @ B\n",
        "print(dot_product)"
      ],
      "metadata": {
        "colab": {
          "base_uri": "https://localhost:8080/"
        },
        "id": "03aMN35UpaPY",
        "outputId": "d77d8442-ccdb-4f1f-e399-545fca2296c1"
      },
      "execution_count": 6,
      "outputs": [
        {
          "output_type": "stream",
          "name": "stdout",
          "text": [
            "[17 18  7 16 19]\n",
            "[6 4 3 9 7]\n",
            "472\n"
          ]
        }
      ]
    },
    {
      "cell_type": "code",
      "source": [
        "A=np.random.randint(1,20,5)\n",
        "B=np.random.randint(1,20,5)\n",
        "print(A)\n",
        "print(\"Mean :\",np.mean(A))\n",
        "print(\"Median :\",np.median(A))\n",
        "print(\"Standard deviation :\",np.std(A))\n",
        "print(\"Varience :\",np.var(A))"
      ],
      "metadata": {
        "colab": {
          "base_uri": "https://localhost:8080/"
        },
        "id": "wf-fip5DpaSw",
        "outputId": "c80fda39-8d2c-438b-f815-369a23c97a04"
      },
      "execution_count": 7,
      "outputs": [
        {
          "output_type": "stream",
          "name": "stdout",
          "text": [
            "[ 3 12  4 14 15]\n",
            "Mean : 9.6\n",
            "Median : 12.0\n",
            "Standard deviation : 5.083306010855534\n",
            "Varience : 25.839999999999996\n"
          ]
        }
      ]
    },
    {
      "cell_type": "code",
      "source": [
        "A=np.random.randint(1,20,5)\n",
        "B=np.random.randint(1,20,5)\n",
        "print(B)\n",
        "print(\"Maximum :\",np.max(B))\n",
        "print(\"Minimum :\",np.min(B))\n",
        "print(\"Maximum idx :\",np.argmax(B))\n",
        "print(\"Minimum idx :\",np.argmin(B))"
      ],
      "metadata": {
        "colab": {
          "base_uri": "https://localhost:8080/"
        },
        "id": "GKFjO_Udpate",
        "outputId": "b40af0cb-9135-45aa-fd5c-4b5298705842"
      },
      "execution_count": 8,
      "outputs": [
        {
          "output_type": "stream",
          "name": "stdout",
          "text": [
            "[ 2  9 18 18  3]\n",
            "Maximum : 18\n",
            "Minimum : 2\n",
            "Maximum idx : 2\n",
            "Minimum idx : 0\n"
          ]
        }
      ]
    },
    {
      "cell_type": "code",
      "source": [
        "l1=np.random.randint(1,12,12)\n",
        "print(l1)\n",
        "print(\"2D Array of Size 4X3\")\n",
        "print(l1.reshape(4,3))\n",
        "print(\"3D Array of Size 2X2X3  \")\n",
        "print(l1.reshape(2,2,3))\n",
        "print(\"Transpose of 2D Array\")\n",
        "print(np.transpose(l1.reshape(4,3)))\n",
        "print(\"Transpose of 2D Array and its shape\")\n",
        "print(np.transpose(l1.reshape(4,3)).shape)"
      ],
      "metadata": {
        "colab": {
          "base_uri": "https://localhost:8080/"
        },
        "id": "1jzdpLvYpawE",
        "outputId": "0d46a6fc-1436-4039-e48b-bedb6ac3afb5"
      },
      "execution_count": 9,
      "outputs": [
        {
          "output_type": "stream",
          "name": "stdout",
          "text": [
            "[ 8  4 11  9  5  2 11 10  4 10  5 11]\n",
            "2D Array of Size 4X3\n",
            "[[ 8  4 11]\n",
            " [ 9  5  2]\n",
            " [11 10  4]\n",
            " [10  5 11]]\n",
            "3D Array of Size 2X2X3  \n",
            "[[[ 8  4 11]\n",
            "  [ 9  5  2]]\n",
            "\n",
            " [[11 10  4]\n",
            "  [10  5 11]]]\n",
            "Transpose of 2D Array\n",
            "[[ 8  9 11 10]\n",
            " [ 4  5 10  5]\n",
            " [11  2  4 11]]\n",
            "Transpose of 2D Array and its shape\n",
            "(3, 4)\n"
          ]
        }
      ]
    },
    {
      "cell_type": "code",
      "source": [
        "import numpy as np\n",
        "\n",
        "l2=np.random.randint(10,50,15)\n",
        "print(l2)\n",
        "print(\"Numbers Greater than 25 :\")\n",
        "print(l2[l2>25])\n",
        "print(\"Replacing all elements less than 30 with 0 :\")\n",
        "l2[l2<30]=0\n",
        "print(l2)\n",
        "print(\"number of nonZero elements divisible by 5\")\n",
        "print(np.count_nonzero(l2[l2%5==0]))\n",
        "print(\"number of  elements divisible by 5\")\n",
        "print(np.count_nonzero(l2%5==0))"
      ],
      "metadata": {
        "colab": {
          "base_uri": "https://localhost:8080/"
        },
        "id": "svW9QEKqpay0",
        "outputId": "d07a9283-8b39-4043-b8e5-f7a0910bfa4d"
      },
      "execution_count": 10,
      "outputs": [
        {
          "output_type": "stream",
          "name": "stdout",
          "text": [
            "[21 35 16 29 31 49 31 23 31 20 46 48 49 15 13]\n",
            "Numbers Greater than 25 :\n",
            "[35 29 31 49 31 31 46 48 49]\n",
            "Replacing all elements less than 30 with 0 :\n",
            "[ 0 35  0  0 31 49 31  0 31  0 46 48 49  0  0]\n",
            "number of nonZero elements divisible by 5\n",
            "1\n",
            "number of  elements divisible by 5\n",
            "8\n"
          ]
        }
      ]
    },
    {
      "cell_type": "code",
      "source": [
        "import numpy as np\n",
        "l1=np.linspace(0,1,10)\n",
        "print(\"Array of 10 equally spaced values between 0 and 1 \\n\")\n",
        "print(l1)"
      ],
      "metadata": {
        "colab": {
          "base_uri": "https://localhost:8080/"
        },
        "id": "ExM9sRtspa1Z",
        "outputId": "6cec9a40-dfd4-4d26-b7bc-16a8ddff1bd5"
      },
      "execution_count": 11,
      "outputs": [
        {
          "output_type": "stream",
          "name": "stdout",
          "text": [
            "Array of 10 equally spaced values between 0 and 1 \n",
            "\n",
            "[0.         0.11111111 0.22222222 0.33333333 0.44444444 0.55555556\n",
            " 0.66666667 0.77777778 0.88888889 1.        ]\n"
          ]
        }
      ]
    },
    {
      "cell_type": "code",
      "source": [
        "import numpy as np\n",
        "print(np.eye(4,dtype=\"int\"))"
      ],
      "metadata": {
        "colab": {
          "base_uri": "https://localhost:8080/"
        },
        "id": "8sjW8hZApa35",
        "outputId": "8393ffd6-4467-4c15-a12f-a4f8dc75533e"
      },
      "execution_count": 12,
      "outputs": [
        {
          "output_type": "stream",
          "name": "stdout",
          "text": [
            "[[1 0 0 0]\n",
            " [0 1 0 0]\n",
            " [0 0 1 0]\n",
            " [0 0 0 1]]\n"
          ]
        }
      ]
    },
    {
      "cell_type": "code",
      "source": [
        "import numpy as np\n",
        "l3=np.random.randint(1,100,20)\n",
        "print(\"Original Array :-\")\n",
        "print(l3)\n",
        "print(\"Sorted Array :-\")\n",
        "print(np.sort(l3))\n",
        "print(\"5 largest elements\")\n",
        "print(np.sort(l3)[-5:][::-1])"
      ],
      "metadata": {
        "colab": {
          "base_uri": "https://localhost:8080/"
        },
        "id": "Ku55iADGpa6e",
        "outputId": "8c11df83-c71a-4571-c18b-2a3a69c7ba74"
      },
      "execution_count": 13,
      "outputs": [
        {
          "output_type": "stream",
          "name": "stdout",
          "text": [
            "Original Array :-\n",
            "[10 49 28 30 35 34 66 94  1 93 17 43 29  6 28 48  9 33 19 58]\n",
            "Sorted Array :-\n",
            "[ 1  6  9 10 17 19 28 28 29 30 33 34 35 43 48 49 58 66 93 94]\n",
            "5 largest elements\n",
            "[94 93 66 58 49]\n"
          ]
        }
      ]
    },
    {
      "cell_type": "code",
      "source": [
        "import numpy as np\n",
        "import time\n",
        "\n",
        "# Step 1: Generate two random 100x100 arrays\n",
        "A = np.random.rand(100, 100)\n",
        "B = np.random.rand(100, 100)\n",
        "\n",
        "# Step 2: Start the timer\n",
        "start_time = time.time()\n",
        "print(f\"Operation Start time :{start_time} \\n\")\n",
        "\n",
        "# Step 3: Matrix multiplication\n",
        "C = np.dot(A, B)\n",
        "print(\"Matrix multiplication completed.\\n\")\n",
        "print(C,\"\\n\")\n",
        "\n",
        "\n",
        "# Step 4: Calculate determinant\n",
        "det_C = np.linalg.det(C)\n",
        "print(f\"Determinant of the result: {det_C} \\n\")\n",
        "\n",
        "\n",
        "# Step 5: Try to calculate inverse if determinant is not zero\n",
        "if np.isclose(det_C, 0):\n",
        "    inverse_C = None\n",
        "    invertible = False\n",
        "else:\n",
        "    inverse_C = np.linalg.inv(C)\n",
        "    invertible = True\n",
        "\n",
        "# Step 6: End the timer\n",
        "end_time = time.time()\n",
        "print(f\"Operation end time :{end_time} \\n\")\n",
        "\n",
        "elapsed_time = end_time - start_time\n",
        "\n",
        "# Step 7: Print results\n",
        "print(\"Matrix is invertible.\" if invertible else \"Matrix is not invertible.\")\n",
        "if invertible:\n",
        "    print(\"Inverse matrix calculated successfully.\")\n",
        "    print(inverse_C,\"\\n\")\n",
        "print(f\"Time taken: {elapsed_time:.4f} seconds\")"
      ],
      "metadata": {
        "colab": {
          "base_uri": "https://localhost:8080/"
        },
        "id": "oLM-i8PMpa8-",
        "outputId": "50e80a76-6cc0-40c7-f408-ec0a2abe833c"
      },
      "execution_count": 14,
      "outputs": [
        {
          "output_type": "stream",
          "name": "stdout",
          "text": [
            "Operation Start time :1752307510.622198 \n",
            "\n",
            "Matrix multiplication completed.\n",
            "\n",
            "[[22.95393557 26.6223978  23.77843299 ... 25.05505701 25.77280213\n",
            "  27.69253054]\n",
            " [20.83448138 24.1712187  22.97927658 ... 22.26103924 23.91408275\n",
            "  25.42286383]\n",
            " [21.36747886 25.06562984 23.75298453 ... 25.13113792 23.88836364\n",
            "  27.86718068]\n",
            " ...\n",
            " [22.7790942  25.47852755 21.36128071 ... 22.42680745 24.74869622\n",
            "  24.14527737]\n",
            " [21.92149616 25.75563716 23.99363542 ... 23.68655195 25.11365077\n",
            "  25.0658662 ]\n",
            " [21.71303107 24.91879227 22.07166727 ... 23.16920118 25.29193229\n",
            "  25.05537896]] \n",
            "\n",
            "Determinant of the result: 7.316930352585147e+51 \n",
            "\n",
            "Operation end time :1752307510.641653 \n",
            "\n",
            "Matrix is invertible.\n",
            "Inverse matrix calculated successfully.\n",
            "[[ 0.30693867  2.03281675  0.952613   ...  2.1927024  -1.6390529\n",
            "  -1.42372466]\n",
            " [ 0.13858802 -5.27811879 -2.47142459 ... -5.46607585  2.15913732\n",
            "   3.48897089]\n",
            " [-0.00815922 -1.7187899  -1.595061   ... -1.97474213  0.75421368\n",
            "   0.19190062]\n",
            " ...\n",
            " [ 0.29399532  1.91211085  0.84667995 ...  1.91081086 -1.24658742\n",
            "  -1.02250032]\n",
            " [-0.82492198  4.53426317  3.7942206  ...  3.71142496 -3.45036326\n",
            "  -2.57454341]\n",
            " [-0.55541322  0.55834073  0.13513934 ...  0.81829491  0.13458001\n",
            "   0.02342297]] \n",
            "\n",
            "Time taken: 0.0195 seconds\n"
          ]
        }
      ]
    },
    {
      "cell_type": "code",
      "source": [],
      "metadata": {
        "id": "tcSAHBdLpa_u"
      },
      "execution_count": null,
      "outputs": []
    },
    {
      "cell_type": "code",
      "source": [],
      "metadata": {
        "id": "YukiCQQHpbCc"
      },
      "execution_count": null,
      "outputs": []
    },
    {
      "cell_type": "code",
      "source": [],
      "metadata": {
        "id": "QJ7qWCN-pbE_"
      },
      "execution_count": null,
      "outputs": []
    },
    {
      "cell_type": "code",
      "source": [],
      "metadata": {
        "id": "A_XpC4T_pbHq"
      },
      "execution_count": null,
      "outputs": []
    },
    {
      "cell_type": "code",
      "source": [],
      "metadata": {
        "id": "VDVxNPRFpbKQ"
      },
      "execution_count": null,
      "outputs": []
    },
    {
      "cell_type": "code",
      "source": [],
      "metadata": {
        "id": "rCSWD8_IpbM1"
      },
      "execution_count": null,
      "outputs": []
    }
  ]
}