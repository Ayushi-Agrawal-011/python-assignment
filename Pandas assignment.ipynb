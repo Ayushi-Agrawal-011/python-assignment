{
  "nbformat": 4,
  "nbformat_minor": 0,
  "metadata": {
    "colab": {
      "provenance": [],
      "authorship_tag": "ABX9TyPbCu+fF/UG/bjywv3abdAh",
      "include_colab_link": true
    },
    "kernelspec": {
      "name": "python3",
      "display_name": "Python 3"
    },
    "language_info": {
      "name": "python"
    }
  },
  "cells": [
    {
      "cell_type": "markdown",
      "metadata": {
        "id": "view-in-github",
        "colab_type": "text"
      },
      "source": [
        "<a href=\"https://colab.research.google.com/github/Ayushi-Agrawal-011/python-assignment/blob/main/Pandas%20assignment.ipynb\" target=\"_parent\"><img src=\"https://colab.research.google.com/assets/colab-badge.svg\" alt=\"Open In Colab\"/></a>"
      ]
    },
    {
      "cell_type": "code",
      "execution_count": 1,
      "metadata": {
        "colab": {
          "base_uri": "https://localhost:8080/"
        },
        "id": "6yeLYhv6uQ-N",
        "outputId": "8ae00500-b6b3-4f4e-a38f-b08d25cb14aa"
      },
      "outputs": [
        {
          "output_type": "stream",
          "name": "stdout",
          "text": [
            "Pandas Series:\n",
            "0    25\n",
            "1    30\n",
            "2    35\n",
            "3    40\n",
            "4    45\n",
            "dtype: int64\n"
          ]
        }
      ],
      "source": [
        "import pandas as pd\n",
        "\n",
        "data = [25, 30, 35, 40, 45]\n",
        "series = pd.Series(data)\n",
        "print(\"Pandas Series:\")\n",
        "print(series)"
      ]
    },
    {
      "cell_type": "code",
      "source": [
        "series = pd.Series(data, index=['A', 'B', 'C', 'D', 'E'])\n",
        "\n",
        "# Display the first three elements\n",
        "print(\"\\nFirst three elements:\")\n",
        "print(series[:3])\n",
        "\n",
        "# Calculate mean, median, and standard deviation\n",
        "mean_val = series.mean()\n",
        "median_val = series.median()\n",
        "std_dev = series.std()\n",
        "\n",
        "print(\"\\nStatistics:\")\n",
        "print(f\"Mean: {mean_val}\")\n",
        "print(f\"Median: {median_val}\")\n",
        "print(f\"Standard Deviation: {std_dev}\")"
      ],
      "metadata": {
        "colab": {
          "base_uri": "https://localhost:8080/"
        },
        "id": "PCFjmx6KuWqu",
        "outputId": "dd9d0c59-d119-4ad5-a1a2-90f9648b16c3"
      },
      "execution_count": 2,
      "outputs": [
        {
          "output_type": "stream",
          "name": "stdout",
          "text": [
            "\n",
            "First three elements:\n",
            "A    25\n",
            "B    30\n",
            "C    35\n",
            "dtype: int64\n",
            "\n",
            "Statistics:\n",
            "Mean: 35.0\n",
            "Median: 35.0\n",
            "Standard Deviation: 7.905694150420948\n"
          ]
        }
      ]
    },
    {
      "cell_type": "code",
      "source": [
        "data = {\n",
        "    'Name': ['Alice', 'Bob', 'Carol', 'David', 'Eve'],\n",
        "    'Age': [20, 22, 19, 21, 20],\n",
        "    'Gender': ['Female', 'Male', 'Female', 'Male', 'Female'],\n",
        "    'Marks': [85, 78, 92, 74, 88]\n",
        "}\n",
        "\n",
        "df = pd.DataFrame(data)"
      ],
      "metadata": {
        "id": "9SoPk5P7uWt7"
      },
      "execution_count": 3,
      "outputs": []
    },
    {
      "cell_type": "code",
      "source": [
        "print(\"First two rows:\")\n",
        "print(df.head(2))"
      ],
      "metadata": {
        "colab": {
          "base_uri": "https://localhost:8080/"
        },
        "id": "Q5GsaxfsuWw5",
        "outputId": "91be231a-e176-4d77-d830-3b94f5a182c2"
      },
      "execution_count": 4,
      "outputs": [
        {
          "output_type": "stream",
          "name": "stdout",
          "text": [
            "First two rows:\n",
            "    Name  Age  Gender  Marks\n",
            "0  Alice   20  Female     85\n",
            "1    Bob   22    Male     78\n"
          ]
        }
      ]
    },
    {
      "cell_type": "code",
      "source": [
        "print(\"\\nColumn Names:\")\n",
        "print(df.columns.tolist())\n",
        "\n",
        "print(\"\\nData Types:\")\n",
        "print(df.dtypes)\n",
        "\n",
        "print(\"\\nSummary Statistics:\")\n",
        "print(df.describe())"
      ],
      "metadata": {
        "colab": {
          "base_uri": "https://localhost:8080/"
        },
        "id": "RPHK_xzuuW0J",
        "outputId": "5dc6d70f-8204-4ee6-e2d3-5ddf827794c3"
      },
      "execution_count": 5,
      "outputs": [
        {
          "output_type": "stream",
          "name": "stdout",
          "text": [
            "\n",
            "Column Names:\n",
            "['Name', 'Age', 'Gender', 'Marks']\n",
            "\n",
            "Data Types:\n",
            "Name      object\n",
            "Age        int64\n",
            "Gender    object\n",
            "Marks      int64\n",
            "dtype: object\n",
            "\n",
            "Summary Statistics:\n",
            "             Age      Marks\n",
            "count   5.000000   5.000000\n",
            "mean   20.400000  83.400000\n",
            "std     1.140175   7.334848\n",
            "min    19.000000  74.000000\n",
            "25%    20.000000  78.000000\n",
            "50%    20.000000  85.000000\n",
            "75%    21.000000  88.000000\n",
            "max    22.000000  92.000000\n"
          ]
        }
      ]
    },
    {
      "cell_type": "code",
      "source": [
        "df['Passed'] = df['Marks'] >= 80\n",
        "\n",
        "print(\"\\nDataFrame with 'Passed' column:\")\n",
        "print(df)"
      ],
      "metadata": {
        "colab": {
          "base_uri": "https://localhost:8080/"
        },
        "id": "mz4Rv-cRuW3I",
        "outputId": "023af86e-d158-42ee-870e-03313dc5711a"
      },
      "execution_count": 6,
      "outputs": [
        {
          "output_type": "stream",
          "name": "stdout",
          "text": [
            "\n",
            "DataFrame with 'Passed' column:\n",
            "    Name  Age  Gender  Marks  Passed\n",
            "0  Alice   20  Female     85    True\n",
            "1    Bob   22    Male     78   False\n",
            "2  Carol   19  Female     92    True\n",
            "3  David   21    Male     74   False\n",
            "4    Eve   20  Female     88    True\n"
          ]
        }
      ]
    },
    {
      "cell_type": "code",
      "source": [
        "print(\"1) Name and Marks columns:\")\n",
        "print(df[[\"Name\", \"Marks\"]], end=\"\\n\\n\")"
      ],
      "metadata": {
        "colab": {
          "base_uri": "https://localhost:8080/"
        },
        "id": "v-FJr69guW6p",
        "outputId": "3472f3c4-9d9d-42f9-b63a-3e20bda58f31"
      },
      "execution_count": 7,
      "outputs": [
        {
          "output_type": "stream",
          "name": "stdout",
          "text": [
            "1) Name and Marks columns:\n",
            "    Name  Marks\n",
            "0  Alice     85\n",
            "1    Bob     78\n",
            "2  Carol     92\n",
            "3  David     74\n",
            "4    Eve     88\n",
            "\n"
          ]
        }
      ]
    },
    {
      "cell_type": "code",
      "source": [
        "high_marks = df[df[\"Marks\"] > 80]\n",
        "print(\"2) Students with Marks > 80:\")\n",
        "print(high_marks, end=\"\\n\\n\")"
      ],
      "metadata": {
        "colab": {
          "base_uri": "https://localhost:8080/"
        },
        "id": "ZvLCc8hCuW9J",
        "outputId": "885e969e-ae51-4efd-a5e3-b6ad4821750c"
      },
      "execution_count": 8,
      "outputs": [
        {
          "output_type": "stream",
          "name": "stdout",
          "text": [
            "2) Students with Marks > 80:\n",
            "    Name  Age  Gender  Marks  Passed\n",
            "0  Alice   20  Female     85    True\n",
            "2  Carol   19  Female     92    True\n",
            "4    Eve   20  Female     88    True\n",
            "\n"
          ]
        }
      ]
    },
    {
      "cell_type": "code",
      "source": [
        "#    idxmax() gives the index of the max Marks value\n",
        "top_idx = df[\"Marks\"].idxmax()\n",
        "top_student = df.loc[top_idx]\n",
        "print(\"3) Student with the highest marks:\")\n",
        "print(top_student)"
      ],
      "metadata": {
        "colab": {
          "base_uri": "https://localhost:8080/"
        },
        "id": "9hiA512GvFQe",
        "outputId": "7056821e-ed40-4aa8-a6b6-b7a7e7d6e63a"
      },
      "execution_count": 9,
      "outputs": [
        {
          "output_type": "stream",
          "name": "stdout",
          "text": [
            "3) Student with the highest marks:\n",
            "Name       Carol\n",
            "Age           19\n",
            "Gender    Female\n",
            "Marks         92\n",
            "Passed      True\n",
            "Name: 2, dtype: object\n"
          ]
        }
      ]
    },
    {
      "cell_type": "code",
      "source": [
        "import pandas as pd\n",
        "\n",
        "\n",
        "data = {\n",
        "    'Name': ['Alice', 'Bob', 'Carol', 'David', 'Eve'],\n",
        "    'Age': [20, 22, 19, 21, 20],\n",
        "    'Gender': ['Female', 'Male', 'Female', 'Male', 'Female'],\n",
        "    'Marks': [85, 78, 92, 74, 88]\n",
        "}\n",
        "\n",
        "df = pd.DataFrame(data)\n",
        "\n",
        "df.loc[1, 'Marks'] = None  # Bob's Marks = None\n",
        "df.loc[4, 'Age'] = None    # Eve's Age = None\n",
        "\n",
        "print(\"Modified DataFrame with missing values:\")\n",
        "print(df)"
      ],
      "metadata": {
        "colab": {
          "base_uri": "https://localhost:8080/"
        },
        "id": "G5EyHehHvFTl",
        "outputId": "35700dd8-1e54-45a3-c8ec-13d72e6fbd9d"
      },
      "execution_count": 10,
      "outputs": [
        {
          "output_type": "stream",
          "name": "stdout",
          "text": [
            "Modified DataFrame with missing values:\n",
            "    Name   Age  Gender  Marks\n",
            "0  Alice  20.0  Female   85.0\n",
            "1    Bob  22.0    Male    NaN\n",
            "2  Carol  19.0  Female   92.0\n",
            "3  David  21.0    Male   74.0\n",
            "4    Eve   NaN  Female   88.0\n"
          ]
        }
      ]
    },
    {
      "cell_type": "code",
      "source": [
        "print(\"\\nMissing values in the DataFrame:\")\n",
        "print(df.isnull())"
      ],
      "metadata": {
        "colab": {
          "base_uri": "https://localhost:8080/"
        },
        "id": "uLTDPEsZvFWF",
        "outputId": "1b857307-8d77-465f-f145-073f02e14432"
      },
      "execution_count": 11,
      "outputs": [
        {
          "output_type": "stream",
          "name": "stdout",
          "text": [
            "\n",
            "Missing values in the DataFrame:\n",
            "    Name    Age  Gender  Marks\n",
            "0  False  False   False  False\n",
            "1  False  False   False   True\n",
            "2  False  False   False  False\n",
            "3  False  False   False  False\n",
            "4  False   True   False  False\n"
          ]
        }
      ]
    },
    {
      "cell_type": "code",
      "source": [
        "mean_marks = df['Marks'].mean(skipna=True)\n",
        "df['Marks'] = df['Marks'].fillna(mean_marks)\n",
        "\n",
        "print(\"\\nDataFrame after filling missing 'Marks' with mean:\")\n",
        "print(df)"
      ],
      "metadata": {
        "colab": {
          "base_uri": "https://localhost:8080/"
        },
        "id": "Xc_Fmn64vFYz",
        "outputId": "1511bdcd-40da-49c5-e3be-2b7e100ee756"
      },
      "execution_count": 12,
      "outputs": [
        {
          "output_type": "stream",
          "name": "stdout",
          "text": [
            "\n",
            "DataFrame after filling missing 'Marks' with mean:\n",
            "    Name   Age  Gender  Marks\n",
            "0  Alice  20.0  Female  85.00\n",
            "1    Bob  22.0    Male  84.75\n",
            "2  Carol  19.0  Female  92.00\n",
            "3  David  21.0    Male  74.00\n",
            "4    Eve   NaN  Female  88.00\n"
          ]
        }
      ]
    },
    {
      "cell_type": "code",
      "source": [
        "df = df.dropna(subset=['Age'])"
      ],
      "metadata": {
        "id": "W3SlhSlLvfb_"
      },
      "execution_count": 13,
      "outputs": []
    },
    {
      "cell_type": "code",
      "source": [
        "df\n"
      ],
      "metadata": {
        "colab": {
          "base_uri": "https://localhost:8080/",
          "height": 175
        },
        "id": "yDXB9tTKvkXX",
        "outputId": "becaadf8-6198-45c1-ff6f-a3997e715edc"
      },
      "execution_count": 14,
      "outputs": [
        {
          "output_type": "execute_result",
          "data": {
            "text/plain": [
              "    Name   Age  Gender  Marks\n",
              "0  Alice  20.0  Female  85.00\n",
              "1    Bob  22.0    Male  84.75\n",
              "2  Carol  19.0  Female  92.00\n",
              "3  David  21.0    Male  74.00"
            ],
            "text/html": [
              "\n",
              "  <div id=\"df-6210b0ab-fc20-4e3f-84a3-2c523e84d078\" class=\"colab-df-container\">\n",
              "    <div>\n",
              "<style scoped>\n",
              "    .dataframe tbody tr th:only-of-type {\n",
              "        vertical-align: middle;\n",
              "    }\n",
              "\n",
              "    .dataframe tbody tr th {\n",
              "        vertical-align: top;\n",
              "    }\n",
              "\n",
              "    .dataframe thead th {\n",
              "        text-align: right;\n",
              "    }\n",
              "</style>\n",
              "<table border=\"1\" class=\"dataframe\">\n",
              "  <thead>\n",
              "    <tr style=\"text-align: right;\">\n",
              "      <th></th>\n",
              "      <th>Name</th>\n",
              "      <th>Age</th>\n",
              "      <th>Gender</th>\n",
              "      <th>Marks</th>\n",
              "    </tr>\n",
              "  </thead>\n",
              "  <tbody>\n",
              "    <tr>\n",
              "      <th>0</th>\n",
              "      <td>Alice</td>\n",
              "      <td>20.0</td>\n",
              "      <td>Female</td>\n",
              "      <td>85.00</td>\n",
              "    </tr>\n",
              "    <tr>\n",
              "      <th>1</th>\n",
              "      <td>Bob</td>\n",
              "      <td>22.0</td>\n",
              "      <td>Male</td>\n",
              "      <td>84.75</td>\n",
              "    </tr>\n",
              "    <tr>\n",
              "      <th>2</th>\n",
              "      <td>Carol</td>\n",
              "      <td>19.0</td>\n",
              "      <td>Female</td>\n",
              "      <td>92.00</td>\n",
              "    </tr>\n",
              "    <tr>\n",
              "      <th>3</th>\n",
              "      <td>David</td>\n",
              "      <td>21.0</td>\n",
              "      <td>Male</td>\n",
              "      <td>74.00</td>\n",
              "    </tr>\n",
              "  </tbody>\n",
              "</table>\n",
              "</div>\n",
              "    <div class=\"colab-df-buttons\">\n",
              "\n",
              "  <div class=\"colab-df-container\">\n",
              "    <button class=\"colab-df-convert\" onclick=\"convertToInteractive('df-6210b0ab-fc20-4e3f-84a3-2c523e84d078')\"\n",
              "            title=\"Convert this dataframe to an interactive table.\"\n",
              "            style=\"display:none;\">\n",
              "\n",
              "  <svg xmlns=\"http://www.w3.org/2000/svg\" height=\"24px\" viewBox=\"0 -960 960 960\">\n",
              "    <path d=\"M120-120v-720h720v720H120Zm60-500h600v-160H180v160Zm220 220h160v-160H400v160Zm0 220h160v-160H400v160ZM180-400h160v-160H180v160Zm440 0h160v-160H620v160ZM180-180h160v-160H180v160Zm440 0h160v-160H620v160Z\"/>\n",
              "  </svg>\n",
              "    </button>\n",
              "\n",
              "  <style>\n",
              "    .colab-df-container {\n",
              "      display:flex;\n",
              "      gap: 12px;\n",
              "    }\n",
              "\n",
              "    .colab-df-convert {\n",
              "      background-color: #E8F0FE;\n",
              "      border: none;\n",
              "      border-radius: 50%;\n",
              "      cursor: pointer;\n",
              "      display: none;\n",
              "      fill: #1967D2;\n",
              "      height: 32px;\n",
              "      padding: 0 0 0 0;\n",
              "      width: 32px;\n",
              "    }\n",
              "\n",
              "    .colab-df-convert:hover {\n",
              "      background-color: #E2EBFA;\n",
              "      box-shadow: 0px 1px 2px rgba(60, 64, 67, 0.3), 0px 1px 3px 1px rgba(60, 64, 67, 0.15);\n",
              "      fill: #174EA6;\n",
              "    }\n",
              "\n",
              "    .colab-df-buttons div {\n",
              "      margin-bottom: 4px;\n",
              "    }\n",
              "\n",
              "    [theme=dark] .colab-df-convert {\n",
              "      background-color: #3B4455;\n",
              "      fill: #D2E3FC;\n",
              "    }\n",
              "\n",
              "    [theme=dark] .colab-df-convert:hover {\n",
              "      background-color: #434B5C;\n",
              "      box-shadow: 0px 1px 3px 1px rgba(0, 0, 0, 0.15);\n",
              "      filter: drop-shadow(0px 1px 2px rgba(0, 0, 0, 0.3));\n",
              "      fill: #FFFFFF;\n",
              "    }\n",
              "  </style>\n",
              "\n",
              "    <script>\n",
              "      const buttonEl =\n",
              "        document.querySelector('#df-6210b0ab-fc20-4e3f-84a3-2c523e84d078 button.colab-df-convert');\n",
              "      buttonEl.style.display =\n",
              "        google.colab.kernel.accessAllowed ? 'block' : 'none';\n",
              "\n",
              "      async function convertToInteractive(key) {\n",
              "        const element = document.querySelector('#df-6210b0ab-fc20-4e3f-84a3-2c523e84d078');\n",
              "        const dataTable =\n",
              "          await google.colab.kernel.invokeFunction('convertToInteractive',\n",
              "                                                    [key], {});\n",
              "        if (!dataTable) return;\n",
              "\n",
              "        const docLinkHtml = 'Like what you see? Visit the ' +\n",
              "          '<a target=\"_blank\" href=https://colab.research.google.com/notebooks/data_table.ipynb>data table notebook</a>'\n",
              "          + ' to learn more about interactive tables.';\n",
              "        element.innerHTML = '';\n",
              "        dataTable['output_type'] = 'display_data';\n",
              "        await google.colab.output.renderOutput(dataTable, element);\n",
              "        const docLink = document.createElement('div');\n",
              "        docLink.innerHTML = docLinkHtml;\n",
              "        element.appendChild(docLink);\n",
              "      }\n",
              "    </script>\n",
              "  </div>\n",
              "\n",
              "\n",
              "    <div id=\"df-be30452c-338f-4b82-8c2c-6734b34b0912\">\n",
              "      <button class=\"colab-df-quickchart\" onclick=\"quickchart('df-be30452c-338f-4b82-8c2c-6734b34b0912')\"\n",
              "                title=\"Suggest charts\"\n",
              "                style=\"display:none;\">\n",
              "\n",
              "<svg xmlns=\"http://www.w3.org/2000/svg\" height=\"24px\"viewBox=\"0 0 24 24\"\n",
              "     width=\"24px\">\n",
              "    <g>\n",
              "        <path d=\"M19 3H5c-1.1 0-2 .9-2 2v14c0 1.1.9 2 2 2h14c1.1 0 2-.9 2-2V5c0-1.1-.9-2-2-2zM9 17H7v-7h2v7zm4 0h-2V7h2v10zm4 0h-2v-4h2v4z\"/>\n",
              "    </g>\n",
              "</svg>\n",
              "      </button>\n",
              "\n",
              "<style>\n",
              "  .colab-df-quickchart {\n",
              "      --bg-color: #E8F0FE;\n",
              "      --fill-color: #1967D2;\n",
              "      --hover-bg-color: #E2EBFA;\n",
              "      --hover-fill-color: #174EA6;\n",
              "      --disabled-fill-color: #AAA;\n",
              "      --disabled-bg-color: #DDD;\n",
              "  }\n",
              "\n",
              "  [theme=dark] .colab-df-quickchart {\n",
              "      --bg-color: #3B4455;\n",
              "      --fill-color: #D2E3FC;\n",
              "      --hover-bg-color: #434B5C;\n",
              "      --hover-fill-color: #FFFFFF;\n",
              "      --disabled-bg-color: #3B4455;\n",
              "      --disabled-fill-color: #666;\n",
              "  }\n",
              "\n",
              "  .colab-df-quickchart {\n",
              "    background-color: var(--bg-color);\n",
              "    border: none;\n",
              "    border-radius: 50%;\n",
              "    cursor: pointer;\n",
              "    display: none;\n",
              "    fill: var(--fill-color);\n",
              "    height: 32px;\n",
              "    padding: 0;\n",
              "    width: 32px;\n",
              "  }\n",
              "\n",
              "  .colab-df-quickchart:hover {\n",
              "    background-color: var(--hover-bg-color);\n",
              "    box-shadow: 0 1px 2px rgba(60, 64, 67, 0.3), 0 1px 3px 1px rgba(60, 64, 67, 0.15);\n",
              "    fill: var(--button-hover-fill-color);\n",
              "  }\n",
              "\n",
              "  .colab-df-quickchart-complete:disabled,\n",
              "  .colab-df-quickchart-complete:disabled:hover {\n",
              "    background-color: var(--disabled-bg-color);\n",
              "    fill: var(--disabled-fill-color);\n",
              "    box-shadow: none;\n",
              "  }\n",
              "\n",
              "  .colab-df-spinner {\n",
              "    border: 2px solid var(--fill-color);\n",
              "    border-color: transparent;\n",
              "    border-bottom-color: var(--fill-color);\n",
              "    animation:\n",
              "      spin 1s steps(1) infinite;\n",
              "  }\n",
              "\n",
              "  @keyframes spin {\n",
              "    0% {\n",
              "      border-color: transparent;\n",
              "      border-bottom-color: var(--fill-color);\n",
              "      border-left-color: var(--fill-color);\n",
              "    }\n",
              "    20% {\n",
              "      border-color: transparent;\n",
              "      border-left-color: var(--fill-color);\n",
              "      border-top-color: var(--fill-color);\n",
              "    }\n",
              "    30% {\n",
              "      border-color: transparent;\n",
              "      border-left-color: var(--fill-color);\n",
              "      border-top-color: var(--fill-color);\n",
              "      border-right-color: var(--fill-color);\n",
              "    }\n",
              "    40% {\n",
              "      border-color: transparent;\n",
              "      border-right-color: var(--fill-color);\n",
              "      border-top-color: var(--fill-color);\n",
              "    }\n",
              "    60% {\n",
              "      border-color: transparent;\n",
              "      border-right-color: var(--fill-color);\n",
              "    }\n",
              "    80% {\n",
              "      border-color: transparent;\n",
              "      border-right-color: var(--fill-color);\n",
              "      border-bottom-color: var(--fill-color);\n",
              "    }\n",
              "    90% {\n",
              "      border-color: transparent;\n",
              "      border-bottom-color: var(--fill-color);\n",
              "    }\n",
              "  }\n",
              "</style>\n",
              "\n",
              "      <script>\n",
              "        async function quickchart(key) {\n",
              "          const quickchartButtonEl =\n",
              "            document.querySelector('#' + key + ' button');\n",
              "          quickchartButtonEl.disabled = true;  // To prevent multiple clicks.\n",
              "          quickchartButtonEl.classList.add('colab-df-spinner');\n",
              "          try {\n",
              "            const charts = await google.colab.kernel.invokeFunction(\n",
              "                'suggestCharts', [key], {});\n",
              "          } catch (error) {\n",
              "            console.error('Error during call to suggestCharts:', error);\n",
              "          }\n",
              "          quickchartButtonEl.classList.remove('colab-df-spinner');\n",
              "          quickchartButtonEl.classList.add('colab-df-quickchart-complete');\n",
              "        }\n",
              "        (() => {\n",
              "          let quickchartButtonEl =\n",
              "            document.querySelector('#df-be30452c-338f-4b82-8c2c-6734b34b0912 button');\n",
              "          quickchartButtonEl.style.display =\n",
              "            google.colab.kernel.accessAllowed ? 'block' : 'none';\n",
              "        })();\n",
              "      </script>\n",
              "    </div>\n",
              "\n",
              "  <div id=\"id_8c6fb01b-a560-4692-bd13-a74c2e9fb9c4\">\n",
              "    <style>\n",
              "      .colab-df-generate {\n",
              "        background-color: #E8F0FE;\n",
              "        border: none;\n",
              "        border-radius: 50%;\n",
              "        cursor: pointer;\n",
              "        display: none;\n",
              "        fill: #1967D2;\n",
              "        height: 32px;\n",
              "        padding: 0 0 0 0;\n",
              "        width: 32px;\n",
              "      }\n",
              "\n",
              "      .colab-df-generate:hover {\n",
              "        background-color: #E2EBFA;\n",
              "        box-shadow: 0px 1px 2px rgba(60, 64, 67, 0.3), 0px 1px 3px 1px rgba(60, 64, 67, 0.15);\n",
              "        fill: #174EA6;\n",
              "      }\n",
              "\n",
              "      [theme=dark] .colab-df-generate {\n",
              "        background-color: #3B4455;\n",
              "        fill: #D2E3FC;\n",
              "      }\n",
              "\n",
              "      [theme=dark] .colab-df-generate:hover {\n",
              "        background-color: #434B5C;\n",
              "        box-shadow: 0px 1px 3px 1px rgba(0, 0, 0, 0.15);\n",
              "        filter: drop-shadow(0px 1px 2px rgba(0, 0, 0, 0.3));\n",
              "        fill: #FFFFFF;\n",
              "      }\n",
              "    </style>\n",
              "    <button class=\"colab-df-generate\" onclick=\"generateWithVariable('df')\"\n",
              "            title=\"Generate code using this dataframe.\"\n",
              "            style=\"display:none;\">\n",
              "\n",
              "  <svg xmlns=\"http://www.w3.org/2000/svg\" height=\"24px\"viewBox=\"0 0 24 24\"\n",
              "       width=\"24px\">\n",
              "    <path d=\"M7,19H8.4L18.45,9,17,7.55,7,17.6ZM5,21V16.75L18.45,3.32a2,2,0,0,1,2.83,0l1.4,1.43a1.91,1.91,0,0,1,.58,1.4,1.91,1.91,0,0,1-.58,1.4L9.25,21ZM18.45,9,17,7.55Zm-12,3A5.31,5.31,0,0,0,4.9,8.1,5.31,5.31,0,0,0,1,6.5,5.31,5.31,0,0,0,4.9,4.9,5.31,5.31,0,0,0,6.5,1,5.31,5.31,0,0,0,8.1,4.9,5.31,5.31,0,0,0,12,6.5,5.46,5.46,0,0,0,6.5,12Z\"/>\n",
              "  </svg>\n",
              "    </button>\n",
              "    <script>\n",
              "      (() => {\n",
              "      const buttonEl =\n",
              "        document.querySelector('#id_8c6fb01b-a560-4692-bd13-a74c2e9fb9c4 button.colab-df-generate');\n",
              "      buttonEl.style.display =\n",
              "        google.colab.kernel.accessAllowed ? 'block' : 'none';\n",
              "\n",
              "      buttonEl.onclick = () => {\n",
              "        google.colab.notebook.generateWithVariable('df');\n",
              "      }\n",
              "      })();\n",
              "    </script>\n",
              "  </div>\n",
              "\n",
              "    </div>\n",
              "  </div>\n"
            ],
            "application/vnd.google.colaboratory.intrinsic+json": {
              "type": "dataframe",
              "variable_name": "df",
              "summary": "{\n  \"name\": \"df\",\n  \"rows\": 4,\n  \"fields\": [\n    {\n      \"column\": \"Name\",\n      \"properties\": {\n        \"dtype\": \"string\",\n        \"num_unique_values\": 4,\n        \"samples\": [\n          \"Bob\",\n          \"David\",\n          \"Alice\"\n        ],\n        \"semantic_type\": \"\",\n        \"description\": \"\"\n      }\n    },\n    {\n      \"column\": \"Age\",\n      \"properties\": {\n        \"dtype\": \"number\",\n        \"std\": 1.2909944487358056,\n        \"min\": 19.0,\n        \"max\": 22.0,\n        \"num_unique_values\": 4,\n        \"samples\": [\n          22.0,\n          21.0,\n          20.0\n        ],\n        \"semantic_type\": \"\",\n        \"description\": \"\"\n      }\n    },\n    {\n      \"column\": \"Gender\",\n      \"properties\": {\n        \"dtype\": \"string\",\n        \"num_unique_values\": 2,\n        \"samples\": [\n          \"Male\",\n          \"Female\"\n        ],\n        \"semantic_type\": \"\",\n        \"description\": \"\"\n      }\n    },\n    {\n      \"column\": \"Marks\",\n      \"properties\": {\n        \"dtype\": \"number\",\n        \"std\": 7.428478422036822,\n        \"min\": 74.0,\n        \"max\": 92.0,\n        \"num_unique_values\": 4,\n        \"samples\": [\n          84.75,\n          74.0\n        ],\n        \"semantic_type\": \"\",\n        \"description\": \"\"\n      }\n    }\n  ]\n}"
            }
          },
          "metadata": {},
          "execution_count": 14
        }
      ]
    },
    {
      "cell_type": "code",
      "source": [
        "import pandas as pd\n",
        "\n",
        "# Recreate the original DataFrame from Task 2\n",
        "data = {\n",
        "    'Name': ['Alice', 'Bob', 'Carol', 'David', 'Eve'],\n",
        "    'Age': [20, 22, 19, 21, 20],\n",
        "    'Gender': ['Female', 'Male', 'Female', 'Male', 'Female'],\n",
        "    'Marks': [85, 78, 92, 74, 88]\n",
        "}\n",
        "\n",
        "df = pd.DataFrame(data)"
      ],
      "metadata": {
        "id": "E2EANP1avlzw"
      },
      "execution_count": 15,
      "outputs": []
    },
    {
      "cell_type": "code",
      "source": [
        "grouped_mean = df.groupby('Gender')[['Age', 'Marks']].mean()\n",
        "print(\"Mean Age and Marks by Gender:\")\n",
        "print(grouped_mean)"
      ],
      "metadata": {
        "colab": {
          "base_uri": "https://localhost:8080/"
        },
        "id": "LzqVk0lUvwy4",
        "outputId": "799f9236-1416-483b-c53e-120a8beb94cc"
      },
      "execution_count": 16,
      "outputs": [
        {
          "output_type": "stream",
          "name": "stdout",
          "text": [
            "Mean Age and Marks by Gender:\n",
            "              Age      Marks\n",
            "Gender                      \n",
            "Female  19.666667  88.333333\n",
            "Male    21.500000  76.000000\n"
          ]
        }
      ]
    },
    {
      "cell_type": "code",
      "source": [
        "gender_counts = df['Gender'].value_counts()\n",
        "print(\"\\nNumber of Students by Gender:\")\n",
        "print(gender_counts)"
      ],
      "metadata": {
        "colab": {
          "base_uri": "https://localhost:8080/"
        },
        "id": "PlrPF-eCvw2H",
        "outputId": "36480806-4f06-4da0-d279-a277a8662f34"
      },
      "execution_count": 17,
      "outputs": [
        {
          "output_type": "stream",
          "name": "stdout",
          "text": [
            "\n",
            "Number of Students by Gender:\n",
            "Gender\n",
            "Female    3\n",
            "Male      2\n",
            "Name: count, dtype: int64\n"
          ]
        }
      ]
    },
    {
      "cell_type": "code",
      "source": [
        "import pandas as pd\n",
        "\n",
        "# Step 1: Modified DataFrame from Task 4 (after handling missing values)\n",
        "data = {\n",
        "    'Name': ['Alice', 'Bob', 'Carol', 'David'],\n",
        "    'Age': [20, 22, 19, 21],\n",
        "    'Gender': ['Female', 'Male', 'Female', 'Male'],\n",
        "    'Marks': [85.0, 84.75, 92.0, 74.0]\n",
        "}\n",
        "\n",
        "df = pd.DataFrame(data)\n",
        "\n",
        "# Step 2: Save to CSV\n",
        "df.to_csv('students_data.csv', index=False)\n",
        "print(\"Data saved to students_data.csv\")\n",
        "\n",
        "# Step 3: Read from CSV into a new DataFrame\n",
        "new_df = pd.read_csv('students_data.csv')\n",
        "\n",
        "# Step 4: Display first five rows of the new DataFrame\n",
        "print(\"\\nFirst five rows of the loaded DataFrame:\")\n",
        "print(new_df.head())\n"
      ],
      "metadata": {
        "colab": {
          "base_uri": "https://localhost:8080/"
        },
        "id": "rcqxmbEAvw48",
        "outputId": "d1b355bd-b147-495c-9f07-d5a1b927fa9a"
      },
      "execution_count": 18,
      "outputs": [
        {
          "output_type": "stream",
          "name": "stdout",
          "text": [
            "Data saved to students_data.csv\n",
            "\n",
            "First five rows of the loaded DataFrame:\n",
            "    Name  Age  Gender  Marks\n",
            "0  Alice   20  Female  85.00\n",
            "1    Bob   22    Male  84.75\n",
            "2  Carol   19  Female  92.00\n",
            "3  David   21    Male  74.00\n"
          ]
        }
      ]
    },
    {
      "cell_type": "code",
      "source": [
        "import pandas as pd\n",
        "import seaborn as sns\n",
        "import matplotlib.pyplot as plt\n",
        "\n",
        "# Load Titanic dataset from seaborn\n",
        "df = sns.load_dataset('titanic')\n",
        "\n",
        "# ------------------------------------------\n",
        "# 🚀 EDA Step 1: View basic info and preview\n",
        "# ------------------------------------------\n",
        "print(\"📌 Dataset Info:\")\n",
        "print(df.info())\n",
        "\n",
        "print(\"\\n📌 First 5 Rows:\")\n",
        "print(df.head())\n",
        "\n",
        "# ------------------------------------------\n",
        "# 🚀 EDA Step 2: Summary Statistics\n",
        "# ------------------------------------------\n",
        "print(\"\\n📊 Summary Statistics:\")\n",
        "print(df.describe(include='all'))\n",
        "\n",
        "# ------------------------------------------\n",
        "# 🚀 EDA Step 3: Check for Missing Values\n",
        "# ------------------------------------------\n",
        "print(\"\\n🧩 Missing Values:\")\n",
        "print(df.isnull().sum())\n",
        "\n",
        "# ------------------------------------------\n",
        "# 🚀 EDA Step 4: Data Visualizations\n",
        "# ------------------------------------------\n",
        "\n",
        "# Distribution of Age\n",
        "plt.figure(figsize=(8, 4))\n",
        "sns.histplot(df['age'].dropna(), kde=True, bins=30)\n",
        "plt.title('Age Distribution of Passengers')\n",
        "plt.xlabel('Age')\n",
        "plt.ylabel('Count')\n",
        "plt.show()\n",
        "\n",
        "# Survival count\n",
        "plt.figure(figsize=(6, 4))\n",
        "sns.countplot(data=df, x='survived')\n",
        "plt.title('Survival Count')\n",
        "plt.xticks([0, 1], ['Not Survived', 'Survived'])\n",
        "plt.ylabel('Count')\n",
        "plt.show()\n",
        "\n",
        "# Survival by gender\n",
        "plt.figure(figsize=(6, 4))\n",
        "sns.countplot(data=df, x='sex', hue='survived')\n",
        "plt.title('Survival by Gender')\n",
        "plt.xlabel('Sex')\n",
        "plt.ylabel('Count')\n",
        "plt.legend(title='Survived', labels=['No', 'Yes'])\n",
        "plt.show()\n",
        "\n",
        "# Correlation heatmap (numerical only)\n",
        "plt.figure(figsize=(8, 6))\n",
        "sns.heatmap(df.corr(numeric_only=True), annot=True, cmap='coolwarm', fmt=\".2f\")\n",
        "plt.title('Correlation Matrix')\n",
        "plt.show()\n"
      ],
      "metadata": {
        "colab": {
          "base_uri": "https://localhost:8080/",
          "height": 1000
        },
        "id": "OkggJolpwISq",
        "outputId": "7553e96d-5b0b-4845-b938-e6105e9c4a23"
      },
      "execution_count": 19,
      "outputs": [
        {
          "output_type": "stream",
          "name": "stdout",
          "text": [
            "📌 Dataset Info:\n",
            "<class 'pandas.core.frame.DataFrame'>\n",
            "RangeIndex: 891 entries, 0 to 890\n",
            "Data columns (total 15 columns):\n",
            " #   Column       Non-Null Count  Dtype   \n",
            "---  ------       --------------  -----   \n",
            " 0   survived     891 non-null    int64   \n",
            " 1   pclass       891 non-null    int64   \n",
            " 2   sex          891 non-null    object  \n",
            " 3   age          714 non-null    float64 \n",
            " 4   sibsp        891 non-null    int64   \n",
            " 5   parch        891 non-null    int64   \n",
            " 6   fare         891 non-null    float64 \n",
            " 7   embarked     889 non-null    object  \n",
            " 8   class        891 non-null    category\n",
            " 9   who          891 non-null    object  \n",
            " 10  adult_male   891 non-null    bool    \n",
            " 11  deck         203 non-null    category\n",
            " 12  embark_town  889 non-null    object  \n",
            " 13  alive        891 non-null    object  \n",
            " 14  alone        891 non-null    bool    \n",
            "dtypes: bool(2), category(2), float64(2), int64(4), object(5)\n",
            "memory usage: 80.7+ KB\n",
            "None\n",
            "\n",
            "📌 First 5 Rows:\n",
            "   survived  pclass     sex   age  sibsp  parch     fare embarked  class  \\\n",
            "0         0       3    male  22.0      1      0   7.2500        S  Third   \n",
            "1         1       1  female  38.0      1      0  71.2833        C  First   \n",
            "2         1       3  female  26.0      0      0   7.9250        S  Third   \n",
            "3         1       1  female  35.0      1      0  53.1000        S  First   \n",
            "4         0       3    male  35.0      0      0   8.0500        S  Third   \n",
            "\n",
            "     who  adult_male deck  embark_town alive  alone  \n",
            "0    man        True  NaN  Southampton    no  False  \n",
            "1  woman       False    C    Cherbourg   yes  False  \n",
            "2  woman       False  NaN  Southampton   yes   True  \n",
            "3  woman       False    C  Southampton   yes  False  \n",
            "4    man        True  NaN  Southampton    no   True  \n",
            "\n",
            "📊 Summary Statistics:\n",
            "          survived      pclass   sex         age       sibsp       parch  \\\n",
            "count   891.000000  891.000000   891  714.000000  891.000000  891.000000   \n",
            "unique         NaN         NaN     2         NaN         NaN         NaN   \n",
            "top            NaN         NaN  male         NaN         NaN         NaN   \n",
            "freq           NaN         NaN   577         NaN         NaN         NaN   \n",
            "mean      0.383838    2.308642   NaN   29.699118    0.523008    0.381594   \n",
            "std       0.486592    0.836071   NaN   14.526497    1.102743    0.806057   \n",
            "min       0.000000    1.000000   NaN    0.420000    0.000000    0.000000   \n",
            "25%       0.000000    2.000000   NaN   20.125000    0.000000    0.000000   \n",
            "50%       0.000000    3.000000   NaN   28.000000    0.000000    0.000000   \n",
            "75%       1.000000    3.000000   NaN   38.000000    1.000000    0.000000   \n",
            "max       1.000000    3.000000   NaN   80.000000    8.000000    6.000000   \n",
            "\n",
            "              fare embarked  class  who adult_male deck  embark_town alive  \\\n",
            "count   891.000000      889    891  891        891  203          889   891   \n",
            "unique         NaN        3      3    3          2    7            3     2   \n",
            "top            NaN        S  Third  man       True    C  Southampton    no   \n",
            "freq           NaN      644    491  537        537   59          644   549   \n",
            "mean     32.204208      NaN    NaN  NaN        NaN  NaN          NaN   NaN   \n",
            "std      49.693429      NaN    NaN  NaN        NaN  NaN          NaN   NaN   \n",
            "min       0.000000      NaN    NaN  NaN        NaN  NaN          NaN   NaN   \n",
            "25%       7.910400      NaN    NaN  NaN        NaN  NaN          NaN   NaN   \n",
            "50%      14.454200      NaN    NaN  NaN        NaN  NaN          NaN   NaN   \n",
            "75%      31.000000      NaN    NaN  NaN        NaN  NaN          NaN   NaN   \n",
            "max     512.329200      NaN    NaN  NaN        NaN  NaN          NaN   NaN   \n",
            "\n",
            "       alone  \n",
            "count    891  \n",
            "unique     2  \n",
            "top     True  \n",
            "freq     537  \n",
            "mean     NaN  \n",
            "std      NaN  \n",
            "min      NaN  \n",
            "25%      NaN  \n",
            "50%      NaN  \n",
            "75%      NaN  \n",
            "max      NaN  \n",
            "\n",
            "🧩 Missing Values:\n",
            "survived         0\n",
            "pclass           0\n",
            "sex              0\n",
            "age            177\n",
            "sibsp            0\n",
            "parch            0\n",
            "fare             0\n",
            "embarked         2\n",
            "class            0\n",
            "who              0\n",
            "adult_male       0\n",
            "deck           688\n",
            "embark_town      2\n",
            "alive            0\n",
            "alone            0\n",
            "dtype: int64\n"
          ]
        },
        {
          "output_type": "display_data",
          "data": {
            "text/plain": [
              "<Figure size 800x400 with 1 Axes>"
            ],
            "image/png": "[encoded data removed]"
          },
          "metadata": {}
        },
        {
          "output_type": "display_data",
          "data": {
            "text/plain": [
              "<Figure size 600x400 with 1 Axes>"
            ],
            "image/png": "[encoded data removed]"
          },
          "metadata": {}
        },
        {
          "output_type": "display_data",
          "data": {
            "text/plain": [
              "<Figure size 600x400 with 1 Axes>"
            ],
            "image/png": "[encoded data removed]"
          },
          "metadata": {}
        },
        {
          "output_type": "display_data",
          "data": {
            "text/plain": [
              "<Figure size 800x600 with 2 Axes>"
            ],
            "image/png": "[encoded data removed]"
          },
          "metadata": {}
        }
      ]
    }
  ]
}